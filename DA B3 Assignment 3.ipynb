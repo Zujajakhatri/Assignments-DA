{
 "cells": [
  {
   "cell_type": "markdown",
   "id": "040aea0c-eda0-465a-b3f6-fd58237a430b",
   "metadata": {},
   "source": [
    "Question 1: Age Group Classification \n",
    "\n",
    "Write a Python program that takes the age of a person as input and classifies them into one of the following age groups:\n",
    "\n",
    "\"Child\" if the age is between 0 and 12 (inclusive).\n",
    "\n",
    "\"Teenager\" if the age is between 13 and 19 (inclusive).\n",
    "\n",
    "\"Adult\" if the age is between 20 and 64 (inclusive).\n",
    "\n",
    "\"Senior\" if the age is 65 or older.\n"
   ]
  },
  {
   "cell_type": "markdown",
   "id": "76686b28",
   "metadata": {},
   "source": []
  },
  {
   "cell_type": "code",
   "execution_count": 55,
   "id": "f1944025-0dbb-446b-8caa-f9d229308951",
   "metadata": {},
   "outputs": [
    {
     "name": "stdout",
     "output_type": "stream",
     "text": [
      "enter your age:  5\n"
     ]
    },
    {
     "name": "stdout",
     "output_type": "stream",
     "text": [
      "5\n",
      "you are a Child\n"
     ]
    }
   ],
   "source": [
    "age = int (input (\"enter your age: \"))\n",
    "print(age) \n",
    "\n",
    "if age >= 0 and age <= 12:\n",
    "    print (\"you are a Child\")\n",
    "elif age >= 13 and age <=19:\n",
    "    print (\"you are a Teenager\")\n",
    "elif age >= 20 and age <=64:\n",
    "    print (\"you are an Adult\")\n",
    "elif age >= 65:\n",
    "    print (\"you are a Senior Citizen\")"
   ]
  },
  {
   "cell_type": "code",
   "execution_count": 56,
   "id": "752d8450-e9c1-46a9-9937-4617f102185e",
   "metadata": {},
   "outputs": [
    {
     "name": "stdout",
     "output_type": "stream",
     "text": [
      "enter your age:  16\n"
     ]
    },
    {
     "name": "stdout",
     "output_type": "stream",
     "text": [
      "16\n",
      "you are a Teenager\n"
     ]
    }
   ],
   "source": [
    "age = int (input (\"enter your age: \"))\n",
    "print(age) \n",
    "\n",
    "if age >= 0 and age <= 12:\n",
    "    print (\"you are a Child\")\n",
    "elif age >= 13 and age <=19:\n",
    "    print (\"you are a Teenager\")\n",
    "elif age >= 20 and age <=64:\n",
    "    print (\"you are an Adult\")\n",
    "elif age >= 65:\n",
    "    print (\"you are a Senior Citizen\")\n"
   ]
  },
  {
   "cell_type": "code",
   "execution_count": 58,
   "id": "72eb1f32-5f47-4e1c-af9c-980fabb82c00",
   "metadata": {},
   "outputs": [
    {
     "name": "stdout",
     "output_type": "stream",
     "text": [
      "enter your age:  64\n"
     ]
    },
    {
     "name": "stdout",
     "output_type": "stream",
     "text": [
      "64\n",
      "you are an Adult\n"
     ]
    }
   ],
   "source": [
    "age = int (input (\"enter your age: \"))\n",
    "print(age) \n",
    "\n",
    "if age >= 0 and age <= 12:\n",
    "    print (\"you are a Child\")\n",
    "elif age >= 13 and age <=19:\n",
    "    print (\"you are a Teenager\")\n",
    "elif age >= 20 and age <=64:\n",
    "    print (\"you are an Adult\")\n",
    "elif age >= 65:\n",
    "    print (\"you are a Senior Citizen\")\n"
   ]
  },
  {
   "cell_type": "code",
   "execution_count": 60,
   "id": "260c60fe-fac5-43a9-a05f-91cd36521c8f",
   "metadata": {},
   "outputs": [
    {
     "name": "stdout",
     "output_type": "stream",
     "text": [
      "enter your age:  105\n"
     ]
    },
    {
     "name": "stdout",
     "output_type": "stream",
     "text": [
      "105\n",
      "you are a Senior Citizen\n",
      "*************************************\n"
     ]
    }
   ],
   "source": [
    "age = int (input (\"enter your age: \"))\n",
    "print(age) \n",
    "\n",
    "if age >= 0 and age <= 12:\n",
    "    print (\"you are a Child\")\n",
    "elif age >= 13 and age <=19:\n",
    "    print (\"you are a Teenager\")\n",
    "elif age >= 20 and age <=64:\n",
    "    print (\"you are an Adult\")\n",
    "elif age >= 65:\n",
    "    print (\"you are a Senior Citizen\")\n",
    "print (\"*************************************\")"
   ]
  },
  {
   "cell_type": "markdown",
   "id": "5068bb33-315c-4a5d-be95-4caa94afe993",
   "metadata": {},
   "source": [
    "Q2. Write a Python program that asks the user to enter an email address. The program should check if the email contains the characters @ and \".\" (ignoring case). If either character is present, print \"Email format is valid.\" Otherwise, print \"Invalid email format.\""
   ]
  },
  {
   "cell_type": "code",
   "execution_count": 61,
   "id": "c1e78924-3d18-4921-9a9d-d9fd45fe1cb7",
   "metadata": {},
   "outputs": [
    {
     "name": "stdout",
     "output_type": "stream",
     "text": [
      "Enter your email address zujajasuleman2225@gmail.com\n"
     ]
    },
    {
     "name": "stdout",
     "output_type": "stream",
     "text": [
      "zujajasuleman2225@gmail.com\n",
      "email format is valid\n"
     ]
    }
   ],
   "source": [
    "email = input (\"Enter your email address\")\n",
    "print (email)\n",
    "\n",
    "if '@' in email and '.' in email:\n",
    "    print (\"email format is valid\")\n",
    "else:\n",
    "    print (\"invalid email format\")\n"
   ]
  },
  {
   "cell_type": "code",
   "execution_count": 62,
   "id": "96ed9b06-481a-4988-986c-7e9719bfbfdf",
   "metadata": {},
   "outputs": [
    {
     "name": "stdout",
     "output_type": "stream",
     "text": [
      "Enter your email address zujajakhatri03.gmail\n"
     ]
    },
    {
     "name": "stdout",
     "output_type": "stream",
     "text": [
      "zujajakhatri03.gmail\n",
      "invalid email format\n",
      "*************************************\n"
     ]
    }
   ],
   "source": [
    "email = input (\"Enter your email address\")\n",
    "print (email)\n",
    "\n",
    "if '@' in email and '.' in email:\n",
    "    print (\"email format is valid\")\n",
    "else:\n",
    "    print (\"invalid email format\")\n",
    "print (\"*************************************\")"
   ]
  },
  {
   "cell_type": "markdown",
   "id": "a074ddbe-c5c4-455e-ac3c-53fbbc6c2d56",
   "metadata": {},
   "source": [
    "Q3. Write a Python program that takes three numbers as input and determines the largest among them. Also, check if any or all of the numbers are equal.\""
   ]
  },
  {
   "cell_type": "code",
   "execution_count": 63,
   "id": "56b82ca1-86ef-430b-8b1a-9401baaa7391",
   "metadata": {},
   "outputs": [
    {
     "name": "stdout",
     "output_type": "stream",
     "text": [
      "Enter first number:  3\n",
      "Enter second number:  3\n",
      "Enter third number:  3\n"
     ]
    },
    {
     "name": "stdout",
     "output_type": "stream",
     "text": [
      "All numbers are equal\n"
     ]
    }
   ],
   "source": [
    "num1 = float (input(\"Enter first number: \"))\n",
    "num2 = float (input(\"Enter second number: \"))\n",
    "num3 = float (input(\"Enter third number: \"))\n",
    "\n",
    "largest = max (num1, num2, num3)\n",
    "\n",
    "if num1==num2==num3:\n",
    "    print (\"All numbers are equal\")\n",
    "\n",
    "else:\n",
    "    print (\"The largest number is: \",largest)"
   ]
  },
  {
   "cell_type": "code",
   "execution_count": 25,
   "id": "3801607a-a729-4f2d-b479-cbc6944e8b5b",
   "metadata": {},
   "outputs": [
    {
     "name": "stdout",
     "output_type": "stream",
     "text": [
      "Enter first number:  4.6\n",
      "Enter second number:  4.1\n",
      "Enter third number:  4.9\n"
     ]
    },
    {
     "name": "stdout",
     "output_type": "stream",
     "text": [
      "The largest number is:  4.9\n",
      "************************************\n"
     ]
    }
   ],
   "source": [
    "num1 = float (input(\"Enter first number: \"))\n",
    "num2 = float (input(\"Enter second number: \"))\n",
    "num3 = float (input(\"Enter third number: \"))\n",
    "\n",
    "largest = max (num1, num2, num3)\n",
    "\n",
    "if num1==num2==num3:\n",
    "    print (\"All numbers are equal\")\n",
    "\n",
    "else:\n",
    "    print (\"The largest number is: \",largest)\n",
    "print (\"************************************\")"
   ]
  },
  {
   "cell_type": "markdown",
   "id": "55560bd6-a9d8-4e57-a192-b3e9932ff5cb",
   "metadata": {},
   "source": [
    "Q4. Write a Python program that:\n",
    "\n",
    "Asks the user to enter a number.\n",
    "\n",
    "Checks whether the number is positive.\n",
    "\n",
    "If yes, further check if it's even or odd.\n",
    "\n",
    "Print \"The number is positive and even\" if divisible by 2.\n",
    "\n",
    "Print \"The number is positive and odd\" if not divisible by 2.\n",
    "\n",
    "If the number is zero or negative, print \"The number is not positive\".\n",
    "\n"
   ]
  },
  {
   "cell_type": "code",
   "execution_count": 64,
   "id": "8dd3eed7-cde0-4f9c-9ae3-6c6f7bd4a5f0",
   "metadata": {},
   "outputs": [
    {
     "name": "stdout",
     "output_type": "stream",
     "text": [
      "enter a number:  44\n"
     ]
    },
    {
     "name": "stdout",
     "output_type": "stream",
     "text": [
      "The number is positive and even.\n"
     ]
    }
   ],
   "source": [
    "number = int (input(\"enter a number: \"))\n",
    "\n",
    "if number > 0:\n",
    "    if number % 2 == 0:\n",
    "        print (\"The number is positive and even.\")\n",
    "    else:\n",
    "        print (\"The number is positive and odd.\")\n",
    "\n",
    "else:\n",
    "    print (\"The number is not positive.\")"
   ]
  },
  {
   "cell_type": "code",
   "execution_count": 65,
   "id": "604e2efd-a00d-48bd-b476-99011a840f6e",
   "metadata": {},
   "outputs": [
    {
     "name": "stdout",
     "output_type": "stream",
     "text": [
      "enter a number:  43\n"
     ]
    },
    {
     "name": "stdout",
     "output_type": "stream",
     "text": [
      "The number is positive and odd.\n"
     ]
    }
   ],
   "source": [
    "number = int (input(\"enter a number: \"))\n",
    "\n",
    "if number > 0:\n",
    "    if number % 2 == 0:\n",
    "        print (\"The number is positive and even.\")\n",
    "    else:\n",
    "        print (\"The number is positive and odd.\")\n",
    "\n",
    "else:\n",
    "    print (\"The number is not positive.\")"
   ]
  },
  {
   "cell_type": "code",
   "execution_count": 66,
   "id": "e69a2ec4-31ea-44fe-9e18-84109bf90a01",
   "metadata": {},
   "outputs": [
    {
     "name": "stdout",
     "output_type": "stream",
     "text": [
      "enter a number:  -44\n"
     ]
    },
    {
     "name": "stdout",
     "output_type": "stream",
     "text": [
      "The number is not positive.\n",
      "************************************\n"
     ]
    }
   ],
   "source": [
    "number = int (input(\"enter a number: \"))\n",
    "\n",
    "if number > 0:\n",
    "    if number % 2 == 0:\n",
    "        print (\"The number is positive and even.\")\n",
    "    else:\n",
    "        print (\"The number is positive and odd.\")\n",
    "\n",
    "else:\n",
    "    print (\"The number is not positive.\")\n",
    "\n",
    "print (\"************************************\")"
   ]
  },
  {
   "cell_type": "markdown",
   "id": "800fe26a-5d6e-4107-97ba-62fa4f913093",
   "metadata": {},
   "source": [
    "Q5. Ask the user for a username and password. Check if the username is correct. If it is, then check if the password is correct. If both are correct, print \"Access granted\".\n",
    "\n",
    "username = \"admin\"\n",
    "\n",
    "password = \"1234\""
   ]
  },
  {
   "cell_type": "code",
   "execution_count": 38,
   "id": "d019e570-1527-41d1-bbe8-2a1152ef47ea",
   "metadata": {},
   "outputs": [
    {
     "name": "stdout",
     "output_type": "stream",
     "text": [
      "Enter username:  admin\n",
      "Enter password:  123\n"
     ]
    },
    {
     "name": "stdout",
     "output_type": "stream",
     "text": [
      "Incorrect password.\n",
      "************************************\n"
     ]
    }
   ],
   "source": [
    "\n",
    "username = \"admin\"\n",
    "password = \"1234\"\n",
    "\n",
    "entered_username = input(\"Enter username: \")\n",
    "entered_password = input(\"Enter password: \")\n",
    "\n",
    "\n",
    "if entered_username == username:\n",
    "    if entered_password == password:\n",
    "        print(\"Access granted.\")\n",
    "    else:\n",
    "        print(\"Incorrect password.\")\n",
    "else:\n",
    "    print(\"Incorrect username.\")\n",
    "\n",
    "\n",
    "print (\"************************************\")"
   ]
  },
  {
   "cell_type": "code",
   "execution_count": 50,
   "id": "15b730c1-236d-4c0e-8fad-6360ba8b4463",
   "metadata": {},
   "outputs": [
    {
     "name": "stdout",
     "output_type": "stream",
     "text": [
      "Enter username:  zujaja\n",
      "Enter password:  1234\n"
     ]
    },
    {
     "name": "stdout",
     "output_type": "stream",
     "text": [
      "Incorrect username.\n",
      "************************************\n"
     ]
    }
   ],
   "source": [
    "username = \"admin\"\n",
    "password = \"1234\"\n",
    "\n",
    "entered_username = input(\"Enter username: \")\n",
    "entered_password = input(\"Enter password: \")\n",
    "\n",
    "\n",
    "if entered_username == username:\n",
    "    if entered_password == password:\n",
    "        print(\"Access granted.\")\n",
    "    else:\n",
    "        print(\"Incorrect password.\")\n",
    "else:\n",
    "    print(\"Incorrect username.\")\n",
    "\n",
    "\n",
    "print (\"************************************\")"
   ]
  },
  {
   "cell_type": "markdown",
   "id": "d7512946-1c55-48d5-b62d-4f17c84f457a",
   "metadata": {},
   "source": [
    "Q6. Take an integer input from the user and check whether the entered value exists in the tuple my_tuple = (5, 10, 15, 20, 25). Print an appropriate message based on the result."
   ]
  },
  {
   "cell_type": "code",
   "execution_count": 44,
   "id": "2551931b-7941-4bd4-bac6-481af8e5fc66",
   "metadata": {},
   "outputs": [
    {
     "name": "stdout",
     "output_type": "stream",
     "text": [
      "Enter an integer:  23\n"
     ]
    },
    {
     "name": "stdout",
     "output_type": "stream",
     "text": [
      "the number you entered does not exist in the tuple.\n",
      "*******************************************************\n"
     ]
    }
   ],
   "source": [
    "\n",
    "my_tuple = (5, 10, 15, 20, 25)\n",
    "\n",
    "num = int(input(\"Enter an integer: \"))\n",
    "\n",
    "if num in my_tuple:\n",
    "    print(\"the number you entered exists in the tuple.\")\n",
    "else:\n",
    "    print(\"the number you entered does not exist in the tuple.\")\n",
    "print (\"*******************************************************\")"
   ]
  },
  {
   "cell_type": "code",
   "execution_count": 49,
   "id": "f1922e80-4775-4f3f-ba46-4dfc8b10bb1e",
   "metadata": {},
   "outputs": [
    {
     "name": "stdout",
     "output_type": "stream",
     "text": [
      "Enter an integer:  10\n"
     ]
    },
    {
     "name": "stdout",
     "output_type": "stream",
     "text": [
      "the number you entered exists in the tuple.\n",
      "*******************************************************\n"
     ]
    }
   ],
   "source": [
    "\n",
    "my_tuple = (5, 10, 15, 20, 25)\n",
    "\n",
    "num = int(input(\"Enter an integer: \"))\n",
    "\n",
    "if num in my_tuple:\n",
    "    print(\"the number you entered exists in the tuple.\")\n",
    "else:\n",
    "    print(\"the number you entered does not exist in the tuple.\")\n",
    "print (\"*******************************************************\")"
   ]
  },
  {
   "cell_type": "markdown",
   "id": "f38b44b4-1244-4fa9-a186-8153caa421ec",
   "metadata": {},
   "source": [
    "Q7. Create a program that takes the user's first name, last name, and age as input, packs them into a tuple, and prints the tuple."
   ]
  },
  {
   "cell_type": "code",
   "execution_count": 43,
   "id": "f5cacdda-f75e-42f1-b9ef-3e740cdbfd04",
   "metadata": {},
   "outputs": [
    {
     "name": "stdout",
     "output_type": "stream",
     "text": [
      "Enter your first name:  zujaja\n",
      "Enter your last name:  khatri\n",
      "Enter your age:  22\n"
     ]
    },
    {
     "name": "stdout",
     "output_type": "stream",
     "text": [
      "User information tuple: ('zujaja', 'khatri', '22')\n",
      "****************************************************\n"
     ]
    }
   ],
   "source": [
    "# Take input from user\n",
    "first_name = input(\"Enter your first name: \")\n",
    "last_name = input(\"Enter your last name: \")\n",
    "age = input(\"Enter your age: \")\n",
    "\n",
    "user_info = (first_name, last_name, age)\n",
    "\n",
    "print(\"User information tuple:\", user_info)\n",
    "print (\"****************************************************\")"
   ]
  },
  {
   "cell_type": "markdown",
   "id": "6a08567b-6f6c-4374-a54e-992c09a31780",
   "metadata": {},
   "source": [
    "Q8. Given the tuple coordinates = (4, 5, 6), unpack the elements of the tuple into three variables x, y, and z. Then, calculate and print the sum of the variables."
   ]
  },
  {
   "cell_type": "code",
   "execution_count": 45,
   "id": "079801fd-189d-43b0-b65e-f3cc972745e8",
   "metadata": {},
   "outputs": [
    {
     "name": "stdout",
     "output_type": "stream",
     "text": [
      "The sum of the coordinates is: 15\n",
      "****************************************\n"
     ]
    }
   ],
   "source": [
    "coordinates = (4, 5, 6)\n",
    "x, y, z = coordinates\n",
    "\n",
    "total = x + y + z\n",
    "print(\"The sum of the coordinates is:\", total)\n",
    "print (\"****************************************\")"
   ]
  },
  {
   "cell_type": "markdown",
   "id": "d3973711-1c49-436f-aaff-e0a19877f525",
   "metadata": {},
   "source": [
    "Q9. Given the tuple my_tuple = (1, 2, 3, 4, 5), remove the element 3 from the tuple by first converting it to a list, and then print the resulting tuple."
   ]
  },
  {
   "cell_type": "code",
   "execution_count": 53,
   "id": "ef0d4a7b-d023-4638-a67c-37d8eeae0b94",
   "metadata": {},
   "outputs": [
    {
     "name": "stdout",
     "output_type": "stream",
     "text": [
      "my List:  [1, 2, 4, 5]\n",
      "Updated tuple: (1, 2, 4, 5)\n",
      "****************************************\n"
     ]
    }
   ],
   "source": [
    "my_tuple = (1, 2, 3, 4, 5)\n",
    "my_list = list(my_tuple)\n",
    "my_list.remove(3)\n",
    "print (\"my List: \", my_list)\n",
    "updated_tuple = tuple(my_list)\n",
    "\n",
    "print(\"Updated tuple:\", updated_tuple)\n",
    "print (\"****************************************\")"
   ]
  },
  {
   "cell_type": "markdown",
   "id": "c9c6a478-5d3d-4e1e-8bce-b9479925c7c5",
   "metadata": {},
   "source": [
    "Q10. Given the tuple numbers = (10, 20, 5, 30, 15), find and print the maximum and minimum values in the tuple."
   ]
  },
  {
   "cell_type": "code",
   "execution_count": 67,
   "id": "23f2258c-e489-4d2a-8b1c-20b9e76ac764",
   "metadata": {},
   "outputs": [
    {
     "name": "stdout",
     "output_type": "stream",
     "text": [
      "Maximum value: 30\n",
      "Minimum value: 5\n",
      "****************************************\n"
     ]
    }
   ],
   "source": [
    "numbers = (10, 20, 5, 30, 15)\n",
    "maximum = max(numbers)\n",
    "minimum = min(numbers)\n",
    "\n",
    "# Print the results\n",
    "print(\"Maximum value:\", maximum)\n",
    "print(\"Minimum value:\", minimum)\n",
    "print (\"****************************************\")"
   ]
  },
  {
   "cell_type": "markdown",
   "id": "9f76b772-6afc-43ce-abc5-575cb7d1d28c",
   "metadata": {},
   "source": [
    "## assignment completed"
   ]
  }
 ],
 "metadata": {
  "kernelspec": {
   "display_name": "Python 3 (ipykernel)",
   "language": "python",
   "name": "python3"
  },
  "language_info": {
   "codemirror_mode": {
    "name": "ipython",
    "version": 3
   },
   "file_extension": ".py",
   "mimetype": "text/x-python",
   "name": "python",
   "nbconvert_exporter": "python",
   "pygments_lexer": "ipython3",
   "version": "3.12.7"
  }
 },
 "nbformat": 4,
 "nbformat_minor": 5
}
