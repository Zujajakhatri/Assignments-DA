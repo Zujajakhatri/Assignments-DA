{
 "cells": [
  {
   "cell_type": "markdown",
   "id": "ded69d83-04af-41d6-8e49-609befccff3f",
   "metadata": {},
   "source": [
    "Q1.\n",
    "\n",
    "An e-commerce store stores information about its products in a nested dictionary. The outer dictionary uses product IDs as keys, and the inner dictionary stores product details like name, category, price, and stock quantity. products = { 101: {\"name\": \"Laptop\", \"category\": \"Electronics\", \"price\": 1200, \"stock\": 50}, 102: {\"name\": \"Shirt\", \"category\": \"Apparel\", \"price\": 25, \"stock\": 200}, 103: {\"name\": \"Coffee Maker\", \"category\": \"Home Appliances\", \"price\": 80, \"stock\": 30} }\n",
    "\n",
    "• Increase the stock of the \"Shirt\" product (add 50 more units)\n",
    "\n",
    "• Add a new product (e.g., \"Smartphone\")"
   ]
  },
  {
   "cell_type": "code",
   "execution_count": 1,
   "id": "31b64189-5e00-4bae-b851-8572b3653601",
   "metadata": {},
   "outputs": [
    {
     "name": "stdout",
     "output_type": "stream",
     "text": [
      "{101: {'name': 'Laptop', 'category': 'Electronics', 'price': 1200, 'stock': 50}, 102: {'name': 'Shirt', 'category': 'Apparel', 'price': 25, 'stock': 250}, 103: {'name': 'Coffee Maker', 'category': 'Home Appliances', 'price': 80, 'stock': 30}, 104: {'name': 'Smartphone', 'category': 'Electronics', 'price': 700, 'stock': 100}}\n"
     ]
    }
   ],
   "source": [
    "products = {\n",
    "    101: {\"name\": \"Laptop\", \"category\": \"Electronics\", \"price\": 1200, \"stock\": 50},\n",
    "    102: {\"name\": \"Shirt\", \"category\": \"Apparel\", \"price\": 25, \"stock\": 200},\n",
    "    103: {\"name\": \"Coffee Maker\", \"category\": \"Home Appliances\", \"price\": 80, \"stock\": 30}\n",
    "}\n",
    "\n",
    "products[102][\"stock\"] += 50\n",
    "\n",
    "products[104] = {\n",
    "    \"name\": \"Smartphone\",\n",
    "    \"category\": \"Electronics\",\n",
    "    \"price\": 700,\n",
    "    \"stock\": 100\n",
    "}\n",
    "print(products)\n"
   ]
  },
  {
   "cell_type": "markdown",
   "id": "e10a9a28-2eb0-415e-a90c-41e3e1b2853e",
   "metadata": {},
   "source": [
    "Q2.\n",
    "\n",
    "You are given a list that contains some duplicate items. Remove the duplicates\n",
    "\n",
    "shopping_list = [\"apple\", \"banana\", \"apple\", \"orange\", \"banana\", \"grape\"]"
   ]
  },
  {
   "cell_type": "code",
   "execution_count": 5,
   "id": "1c503029-d83e-4613-b281-0e6f408811dc",
   "metadata": {},
   "outputs": [
    {
     "name": "stdout",
     "output_type": "stream",
     "text": [
      "['orange', 'apple', 'banana', 'grape']\n"
     ]
    }
   ],
   "source": [
    "shopping_list = [\"apple\", \"banana\", \"apple\", \"orange\", \"banana\", \"grape\"]\n",
    "unique_items = list(set(shopping_list))\n",
    "print(unique_items)"
   ]
  },
  {
   "cell_type": "markdown",
   "id": "0a62bc87-09d4-44c1-8311-2d3c6867511b",
   "metadata": {},
   "source": [
    "Q3.\n",
    "\n",
    "You are managing a list of students enrolled in two different courses. You need to perform various set operations to understand the student enrollment. Task: Create two sets: one for students in \"Course A\" and one for students in \"Course B\". Find the students who are in \"Course A\" but not in \"Course B\" (difference). Find students who are only in one of the two courses (symmetric difference). \n",
    "\n",
    "course_a = {\"John\", \"Alice\", \"Bob\", \"David\"} \n",
    "\n",
    "course_b = {\"Alice\", \"Eve\", \"Charlie\", \"David\"}\n",
    "\n",
    "• Find students who are in Course A but not in Course B (difference)\n",
    "\n",
    "• Find students who are only in one of the two courses (symmetric difference)"
   ]
  },
  {
   "cell_type": "code",
   "execution_count": 6,
   "id": "c8c9d960-4bcd-4166-9675-154ddbe47f71",
   "metadata": {},
   "outputs": [
    {
     "name": "stdout",
     "output_type": "stream",
     "text": [
      "Students only in Course A: {'John', 'Bob'}\n",
      "Students only in one course: {'John', 'Charlie', 'Eve', 'Bob'}\n"
     ]
    }
   ],
   "source": [
    "course_a = {\"John\", \"Alice\", \"Bob\", \"David\"}\n",
    "course_b = {\"Alice\", \"Eve\", \"Charlie\", \"David\"}\n",
    "\n",
    "only_in_a = course_a - course_b\n",
    "print(\"Students only in Course A:\", only_in_a)\n",
    "\n",
    "only_in_one = course_a ^ course_b\n",
    "print(\"Students only in one course:\", only_in_one)\n"
   ]
  },
  {
   "cell_type": "markdown",
   "id": "822000b2-e437-4d5d-9fff-2bded3b347cb",
   "metadata": {},
   "source": [
    "Q4.\n",
    "\n",
    "Write a Python program that calculates the sum of all even numbers between 1 and 50 (inclusive) using a for loop.\n",
    "\n",
    "Hint\n",
    "\n",
    "- Initialize a variable to hold the sum (e.g., sum_of_evens).\n",
    "- Use a for loop to iterate through all numbers from 1 to 50.\n",
    "- Inside the loop, check if the number is even.\n",
    "- If the number is even, add it to sum_of_evens.\n",
    "- After the loop finishes, print the total sum of all even numbers between 1 and 50."
   ]
  },
  {
   "cell_type": "code",
   "execution_count": 8,
   "id": "07534f5f-0225-4b34-9551-9c779ce0cf91",
   "metadata": {},
   "outputs": [
    {
     "name": "stdout",
     "output_type": "stream",
     "text": [
      "Sum of all even numbers from 1 to 50 is: 1250\n"
     ]
    }
   ],
   "source": [
    "sum_of_evens = 0\n",
    "\n",
    "for i in range(1, 51):\n",
    "    if i % 2 == 0:  # Check if the number is even\n",
    "        sum_of_evens += number  # Add it to the sum\n",
    "\n",
    "print(\"Sum of all even numbers from 1 to 50 is:\", sum_of_evens)\n"
   ]
  },
  {
   "cell_type": "markdown",
   "id": "b6529e21-c453-48f0-acee-54044715bc1d",
   "metadata": {},
   "source": [
    "Q5. Power of a Number Write a Python program that takes a number and prints the powers of the number (starting from 1 to 10) using a while loop. For example, if the user inputs 3, the output should be:\n",
    "\n",
    "3^1 = 3\n",
    "\n",
    "3^2 = 9\n",
    "\n",
    "3^3 = 27\n",
    "\n",
    "... up to 3^10."
   ]
  },
  {
   "cell_type": "code",
   "execution_count": 9,
   "id": "a47de2b5-5c73-4c8c-8c44-634bdc49e0cd",
   "metadata": {},
   "outputs": [
    {
     "name": "stdin",
     "output_type": "stream",
     "text": [
      "Enter a number:  4\n"
     ]
    },
    {
     "name": "stdout",
     "output_type": "stream",
     "text": [
      "4^1 = 4\n",
      "4^2 = 16\n",
      "4^3 = 64\n",
      "4^4 = 256\n",
      "4^5 = 1024\n",
      "4^6 = 4096\n",
      "4^7 = 16384\n",
      "4^8 = 65536\n",
      "4^9 = 262144\n",
      "4^10 = 1048576\n"
     ]
    }
   ],
   "source": [
    "# Get input from user\n",
    "number = int(input(\"Enter a number: \"))\n",
    "\n",
    "# Initialize exponent\n",
    "exponent = 1\n",
    "\n",
    "# Use while loop to calculate powers from 1 to 10\n",
    "while exponent <= 10:\n",
    "    result = number ** exponent\n",
    "    print(f\"{number}^{exponent} = {result}\")\n",
    "    exponent += 1\n"
   ]
  },
  {
   "cell_type": "markdown",
   "id": "17616e00-7421-4145-8177-c27d67f85b18",
   "metadata": {},
   "source": [
    "Q6. \n",
    "\n",
    "Problem Statement: Write a Python program that takes an integer input from the user and counts down from that number to 0. The program should display the current number at each step until it reaches 0, at which point it should print a message indicating the countdown is finished\n",
    "\n",
    "Output Hint:\n",
    "\n",
    "Enter a number to start the countdown: 3\n",
    "\n",
    "3\n",
    "\n",
    "2\n",
    "\n",
    "1\n",
    "\n",
    "0\n",
    "\n",
    "Countdown finished!"
   ]
  },
  {
   "cell_type": "code",
   "execution_count": 11,
   "id": "69208df8-0ed3-4ecd-8b3f-ad6b60b41954",
   "metadata": {},
   "outputs": [
    {
     "name": "stdin",
     "output_type": "stream",
     "text": [
      "Enter a number to start the countdown:  8\n"
     ]
    },
    {
     "name": "stdout",
     "output_type": "stream",
     "text": [
      "8\n",
      "7\n",
      "6\n",
      "5\n",
      "4\n",
      "3\n",
      "2\n",
      "1\n",
      "0\n",
      "Countdown finished!\n"
     ]
    }
   ],
   "source": [
    "number = int(input(\"Enter a number to start the countdown: \"))\n",
    "\n",
    "while number >= 0:\n",
    "    print(number)\n",
    "    number -= 1\n",
    "print(\"Countdown finished!\")\n"
   ]
  },
  {
   "cell_type": "markdown",
   "id": "cfe42689-a235-4920-a4d2-2b0cbb8e51c6",
   "metadata": {},
   "source": [
    "Q7.\n",
    "\n",
    "Write a Python program that takes a number as input from the user and calculates its factorial using a for loop. The program should display the result to the user.\n",
    "\n",
    "Example Input/Output:\n",
    "\n",
    "Input:\n",
    "5\n",
    "\n",
    "Output:\n",
    "The factorial of 5 is 120"
   ]
  },
  {
   "cell_type": "code",
   "execution_count": 12,
   "id": "a7679a89-af03-4cad-aff2-e1936c711eb9",
   "metadata": {},
   "outputs": [
    {
     "name": "stdin",
     "output_type": "stream",
     "text": [
      "Enter a number to calculate its factorial:  5\n"
     ]
    },
    {
     "name": "stdout",
     "output_type": "stream",
     "text": [
      "The factorial of 5 is 120\n"
     ]
    }
   ],
   "source": [
    "number = int(input(\"Enter a number to calculate its factorial: \"))\n",
    "factorial = 1\n",
    "\n",
    "for i in range(1, number + 1):\n",
    "    factorial *= i\n",
    "\n",
    "print(f\"The factorial of {number} is {factorial}\")\n"
   ]
  },
  {
   "cell_type": "markdown",
   "id": "ee8b3ea5-fe2f-40eb-bcb0-a7ebca6811e0",
   "metadata": {},
   "source": [
    "Q8.\n",
    "\n",
    "Create an empty dictionary called person_info.\n",
    "\n",
    "Assign the following key-value pairs to the dictionary:\n",
    "\n",
    "\"name\": \"Alice\"\n",
    "\n",
    "\"age\": 25\n",
    "\n",
    "\"occupation\": \"Engineer\"\n",
    "\n",
    "After assigning the values, print the dictionary."
   ]
  },
  {
   "cell_type": "code",
   "execution_count": 13,
   "id": "42c3787f-87cf-46a2-961f-fc73ac8ce696",
   "metadata": {},
   "outputs": [
    {
     "name": "stdout",
     "output_type": "stream",
     "text": [
      "{'name': 'Alice', 'age': 25, 'occupation': 'Engineer'}\n"
     ]
    }
   ],
   "source": [
    "person_info = {}\n",
    "\n",
    "# Assign key-value pairs to the dictionary\n",
    "person_info[\"name\"] = \"Alice\"\n",
    "person_info[\"age\"] = 25\n",
    "person_info[\"occupation\"] = \"Engineer\"\n",
    "\n",
    "print(person_info)\n"
   ]
  },
  {
   "cell_type": "markdown",
   "id": "252146ac-80e2-4961-bd0b-39c9821f9e04",
   "metadata": {},
   "source": [
    "Q9. Printing a right-angled triangle pattern (with NESTED while loop)"
   ]
  },
  {
   "cell_type": "code",
   "execution_count": null,
   "id": "5719c1be-5aa4-4f6a-96a0-a66e2e3983f1",
   "metadata": {},
   "outputs": [],
   "source": [
    "* \n",
    "* * \n",
    "* * * \n",
    "* * * * \n",
    "* * * * * "
   ]
  },
  {
   "cell_type": "code",
   "execution_count": 15,
   "id": "cc300745-1d45-43ed-84b4-a4f802a593bc",
   "metadata": {},
   "outputs": [
    {
     "name": "stdin",
     "output_type": "stream",
     "text": [
      "Enter the number of rows for the triangle:  6\n"
     ]
    },
    {
     "name": "stdout",
     "output_type": "stream",
     "text": [
      "* \n",
      "* * \n",
      "* * * \n",
      "* * * * \n",
      "* * * * * \n",
      "* * * * * * \n"
     ]
    }
   ],
   "source": [
    "# Get input from the user for the number of rows\n",
    "n = int(input(\"Enter the number of rows for the triangle: \"))\n",
    "\n",
    "# Outer loop for the rows\n",
    "row = 1\n",
    "while row <= n:\n",
    "    star = 1\n",
    "    while star <= row:\n",
    "        print(\"*\", end=\" \")  \n",
    "        star += 1\n",
    "    print() \n",
    "    row += 1\n"
   ]
  },
  {
   "cell_type": "markdown",
   "id": "06a478d8-a3d2-488f-b816-b6d97941869a",
   "metadata": {},
   "source": [
    "Q10.\n",
    "\n",
    "Write a Python program that does the following:\n",
    "\n",
    "Range: Loop through numbers from 1 to 20 (inclusive).\n",
    "\n",
    "Continue: If the number is divisible by 4, skip that iteration and move to the next number.\n",
    "\n",
    "Break: If the number is divisible by 7, stop the loop entirely.\n",
    "\n",
    "For all other numbers, print the number."
   ]
  },
  {
   "cell_type": "code",
   "execution_count": 16,
   "id": "aea3e8ac-655f-488a-86e1-2aad62f77916",
   "metadata": {},
   "outputs": [
    {
     "name": "stdout",
     "output_type": "stream",
     "text": [
      "1\n",
      "2\n",
      "3\n",
      "5\n",
      "6\n"
     ]
    }
   ],
   "source": [
    "for num in range(1, 21):\n",
    "    if num % 4 == 0:\n",
    "        continue  \n",
    "    elif num % 7 == 0:\n",
    "        break  \n",
    "    print(num) \n"
   ]
  },
  {
   "cell_type": "markdown",
   "id": "4d6f808a-d193-464e-a559-cfc7108b302f",
   "metadata": {},
   "source": [
    "# assignment completed"
   ]
  },
  {
   "cell_type": "code",
   "execution_count": null,
   "id": "0dc2cb6b-cb88-407c-8adb-a3ddd57056f1",
   "metadata": {},
   "outputs": [],
   "source": []
  }
 ],
 "metadata": {
  "kernelspec": {
   "display_name": "Python 3 (ipykernel)",
   "language": "python",
   "name": "python3"
  },
  "language_info": {
   "codemirror_mode": {
    "name": "ipython",
    "version": 3
   },
   "file_extension": ".py",
   "mimetype": "text/x-python",
   "name": "python",
   "nbconvert_exporter": "python",
   "pygments_lexer": "ipython3",
   "version": "3.12.7"
  }
 },
 "nbformat": 4,
 "nbformat_minor": 5
}
