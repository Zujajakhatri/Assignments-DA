{
 "cells": [
  {
   "cell_type": "markdown",
   "id": "a758a746-ab4b-48b6-98dc-45093b46607d",
   "metadata": {},
   "source": [
    "1. Write a Python function called add_numbers that takes two numbers as arguments and returns their sum. Then, test the function by calling it with two numbers of your choice."
   ]
  },
  {
   "cell_type": "code",
   "execution_count": 5,
   "id": "1c86d4c2-e7e8-464d-a746-9899e38e3b2d",
   "metadata": {},
   "outputs": [
    {
     "name": "stdout",
     "output_type": "stream",
     "text": [
      "The sum is:  12\n"
     ]
    }
   ],
   "source": [
    "def add_numbers(a, b):\n",
    "    print (\"The sum is: \",a + b)\n",
    "\n",
    "result = add_numbers(5, 7)"
   ]
  },
  {
   "cell_type": "markdown",
   "id": "73ff5400-836c-44ee-aeeb-0b84be9db4d8",
   "metadata": {},
   "source": [
    "2. Create a Python function called currency_converter() that takes two arguments:\n",
    "\n",
    "- amount: The amount of money to be converted (in USD).\n",
    "- exchange_rate (default is 280): The conversion rate from USD to another currency (e.g., PKR). You can assume the default rate is 1 USD = 280 PKR.\n",
    "\n",
    "The function should return a message showing how much the given amount is worth in the target currency (PKR)."
   ]
  },
  {
   "cell_type": "code",
   "execution_count": 8,
   "id": "73913bab-b6f7-41f3-ae8e-d4bb8c88ca9c",
   "metadata": {},
   "outputs": [
    {
     "name": "stdout",
     "output_type": "stream",
     "text": [
      "$10 is equivalent to 2800 PKR at an exchange rate of 280.\n"
     ]
    }
   ],
   "source": [
    "def currency_converter(amount, exchange_rate=280):\n",
    "    converted_amount = amount * exchange_rate\n",
    "    print (f\"${amount} is equivalent to {converted_amount} PKR at an exchange rate of {exchange_rate}.\")\n",
    "\n",
    "# Test the function\n",
    "message = currency_converter(10)\n"
   ]
  },
  {
   "cell_type": "markdown",
   "id": "0f49a1a2-234e-434f-bbc1-bb5ed293e2c4",
   "metadata": {},
   "source": [
    "3. Write a Python function display_student_info that accepts the following details about a student:\n",
    "\n",
    "- name (Keyword argument): The name of the student.\n",
    "- age (Keyword argument): The age of the student.\n",
    "- grade (Keyword argument): The grade the student is in.\n",
    "- school (Keyword argument): The name of the school the student attends."
   ]
  },
  {
   "cell_type": "code",
   "execution_count": 10,
   "id": "a55816b3-8ea3-4857-a14c-0b2f3723dd30",
   "metadata": {},
   "outputs": [
    {
     "name": "stdout",
     "output_type": "stream",
     "text": [
      "The name of student is: Ali\n",
      "The age of the student: 15\n",
      "The grade the student is: 10th\n",
      "The name of the school the student attends is: The City School\n"
     ]
    }
   ],
   "source": [
    "def display_student_info(*, name, age, grade, school):\n",
    "    print(f\"The name of student is: {name}\")\n",
    "    print(f\"The age of the student: {age}\")\n",
    "    print(f\"The grade the student is: {grade}\")\n",
    "    print(f\"The name of the school the student attends is: {school}\")\n",
    "\n",
    "# Test the function\n",
    "display_student_info(name=\"Ali\", age=15, grade=\"10th\", school=\"The City School\")\n"
   ]
  },
  {
   "cell_type": "markdown",
   "id": "6bd6698d-f556-439a-981f-dfa0ef46ed9a",
   "metadata": {},
   "source": [
    "4. Write a Python function calculate_price that accepts two positional arguments:\n",
    "\n",
    "- price: The price of a single item.\n",
    "- quantity: The number of items bought.\n",
    "- The function should return the total price by multiplying price and quantity."
   ]
  },
  {
   "cell_type": "code",
   "execution_count": 13,
   "id": "79a8d02c-02be-4813-b903-4fe7dd654d7d",
   "metadata": {},
   "outputs": [
    {
     "name": "stdout",
     "output_type": "stream",
     "text": [
      "Total price: 660\n"
     ]
    }
   ],
   "source": [
    "def calculate_price(price, quantity):\n",
    "    total = price * quantity\n",
    "    return total\n",
    "\n",
    "# Test the function\n",
    "total_price = calculate_price(165, 4)\n",
    "print(\"Total price:\", total_price)\n"
   ]
  },
  {
   "cell_type": "markdown",
   "id": "e589be97-b036-4b13-86b9-9d3312761a0c",
   "metadata": {},
   "source": [
    "5. Write a Python function display_prices that takes a product name and an arbitrary number of keyword arguments representing product prices. The function should display each product and its price.\n",
    "\n",
    "Product: Laptop\n",
    "\n",
    "Amazon: $800\n",
    "\n",
    "eBay: $750\n",
    "\n",
    "Walmart: $780"
   ]
  },
  {
   "cell_type": "code",
   "execution_count": 15,
   "id": "3fdb073d-dbdd-47f8-9446-2994e49eb264",
   "metadata": {},
   "outputs": [
    {
     "name": "stdout",
     "output_type": "stream",
     "text": [
      "Product: Laptop\n",
      "\n",
      "Amazon: $800\n",
      "eBay: $750\n",
      "Walmart: $780\n"
     ]
    }
   ],
   "source": [
    "def display_prices(product, **prices):\n",
    "    print(f\"Product: {product}\\n\")\n",
    "    for store, price in prices.items():\n",
    "        print(f\"{store}: ${price}\")\n",
    "display_prices(\"Laptop\", Amazon=800, eBay=750, Walmart=780)\n"
   ]
  },
  {
   "cell_type": "markdown",
   "id": "5a5910f5-e54e-4515-8c98-c3898f96c1ca",
   "metadata": {},
   "source": [
    "6. Write a Python function find_max that takes any number of numerical arguments and returns the maximum number."
   ]
  },
  {
   "cell_type": "code",
   "execution_count": 20,
   "id": "aa8790a7-c091-4e63-a3ef-78d88dbcda72",
   "metadata": {},
   "outputs": [
    {
     "name": "stdout",
     "output_type": "stream",
     "text": [
      "The maximum number is: 19\n"
     ]
    }
   ],
   "source": [
    "def find_max(*numbers):\n",
    "    if not numbers:\n",
    "        return \"No numbers provided.\"\n",
    "    return max(numbers)\n",
    "result = find_max(5, 12, 3, 19, 7)\n",
    "print(\"The maximum number is:\", result)\n"
   ]
  },
  {
   "cell_type": "markdown",
   "id": "44669d12-8201-466b-a8e8-f7538f3eb72f",
   "metadata": {},
   "source": [
    "7. Write a Python function display_info that takes:\n",
    "Positional arguments for the name and age of a person.\n",
    "Keyword arguments for other personal details like address, phone number, and email.\n",
    "Example Output:\n",
    "\n",
    "- Name: Alice\n",
    "- Age: 30\n",
    "- Other Details:\n",
    "    - address: 123 Main St\n",
    "    - phone: 123-456-7890\n",
    "    - email: alice@example.com"
   ]
  },
  {
   "cell_type": "code",
   "execution_count": 21,
   "id": "c72b1f95-bdcb-4e6f-9539-8ffe92957df0",
   "metadata": {},
   "outputs": [
    {
     "name": "stdout",
     "output_type": "stream",
     "text": [
      "Name: Alice\n",
      "Age: 30\n",
      "Other Details:\n",
      "address: 123 Main St\n",
      "phone: 123-456-7890\n",
      "email: alice@example.com\n"
     ]
    }
   ],
   "source": [
    "def display_info(name, age, **other_details):\n",
    "    print(f\"Name: {name}\")\n",
    "    print(f\"Age: {age}\")\n",
    "    if other_details:\n",
    "        print(\"Other Details:\")\n",
    "        for key, value in other_details.items():\n",
    "            print(f\"{key}: {value}\")\n",
    "\n",
    "# Test the function\n",
    "display_info(\"Alice\", 30, address=\"123 Main St\", phone=\"123-456-7890\", email=\"alice@example.com\")\n"
   ]
  },
  {
   "cell_type": "markdown",
   "id": "bdbfd749-11e9-46f5-ab44-624a2799b5ab",
   "metadata": {},
   "source": [
    "8. products = [ {\"name\": \"Laptop\", \"price\": 1200, \"in_stock\": True, \"discount\": 0.1}, {\"name\": \"Smartphone\", \"price\": 800, \"in_stock\": False, \"discount\": 0.05}, {\"name\": \"Headphones\", \"price\": 150, \"in_stock\": True, \"discount\": 0.2}, {\"name\": \"Smartwatch\", \"price\": 300, \"in_stock\": True, \"discount\": 0}, {\"name\": \"Keyboard\", \"price\": 100, \"in_stock\": True, \"discount\": 0.15} ]\n",
    "\n",
    "- Get names of in-stock products:\n",
    "\n",
    "*Use list comprehension to generate a list of names for the products that are in stock.\n",
    "\n",
    "- Calculate final prices for in-stock products after discount:\n",
    "\n",
    "*For products that have a discount, calculate the final price by applying the discount.\n",
    "\n",
    "*For products with no discount, keep the original price.\n",
    "\n",
    "- Generate a list of tuples with the product name and its final price.\n",
    "\n",
    "Example Output:\n",
    "\n",
    "- In-stock product names: ['Laptop', 'Headphones', 'Smartwatch', 'Keyboard']\n",
    "- Discounted prices: [('Laptop', 1080.0), ('Headphones', 120.0), ('Smartwatch', 300), ('Keyboard', 85.0)]"
   ]
  },
  {
   "cell_type": "code",
   "execution_count": 22,
   "id": "0d7b8d5c-dc18-45dc-a364-f4d2ef453a1d",
   "metadata": {},
   "outputs": [
    {
     "name": "stdout",
     "output_type": "stream",
     "text": [
      "In-stock product names: ['Laptop', 'Headphones', 'Smartwatch', 'Keyboard']\n",
      "Discounted prices: [('Laptop', 1080.0), ('Headphones', 120.0), ('Smartwatch', 300), ('Keyboard', 85.0)]\n"
     ]
    }
   ],
   "source": [
    "products = [\n",
    "    {\"name\": \"Laptop\", \"price\": 1200, \"in_stock\": True, \"discount\": 0.1},\n",
    "    {\"name\": \"Smartphone\", \"price\": 800, \"in_stock\": False, \"discount\": 0.05},\n",
    "    {\"name\": \"Headphones\", \"price\": 150, \"in_stock\": True, \"discount\": 0.2},\n",
    "    {\"name\": \"Smartwatch\", \"price\": 300, \"in_stock\": True, \"discount\": 0},\n",
    "    {\"name\": \"Keyboard\", \"price\": 100, \"in_stock\": True, \"discount\": 0.15}\n",
    "]\n",
    "\n",
    "in_stock_names = [product[\"name\"] for product in products if product[\"in_stock\"]]\n",
    "discounted_prices = [\n",
    "    (product[\"name\"], product[\"price\"] * (1 - product[\"discount\"]) if product[\"discount\"] > 0 else product[\"price\"])\n",
    "    for product in products if product[\"in_stock\"]\n",
    "]\n",
    "\n",
    "# Output\n",
    "print(\"In-stock product names:\", in_stock_names)\n",
    "print(\"Discounted prices:\", discounted_prices)\n"
   ]
  },
  {
   "cell_type": "markdown",
   "id": "82c385f9-3462-4bd5-9932-6494ba7f4ea4",
   "metadata": {},
   "source": [
    "9.Create a list of even numbers between 1 and 20. (List Comprehension)"
   ]
  },
  {
   "cell_type": "code",
   "execution_count": 23,
   "id": "76625bd0-a23a-4ee1-9d1a-0eec908ae321",
   "metadata": {},
   "outputs": [
    {
     "name": "stdout",
     "output_type": "stream",
     "text": [
      "[2, 4, 6, 8, 10, 12, 14, 16, 18, 20]\n"
     ]
    }
   ],
   "source": [
    "even_numbers = [num for num in range(1, 21) if num % 2 == 0]\n",
    "print(even_numbers)\n"
   ]
  },
  {
   "cell_type": "markdown",
   "id": "aade3ca0-7357-42c0-96c5-05152574ae76",
   "metadata": {},
   "source": [
    "10. Create a list of numbers, generate a new list containing only the numbers that are divisible by 3 or 5. (List Comprehension)"
   ]
  },
  {
   "cell_type": "code",
   "execution_count": 24,
   "id": "07932779-277f-4f95-843a-36f7b949c685",
   "metadata": {},
   "outputs": [
    {
     "name": "stdout",
     "output_type": "stream",
     "text": [
      "[3, 5, 6, 9, 10, 12, 15, 18, 20, 21, 24, 25, 27, 30, 33, 35, 36, 39, 40, 42, 45, 48, 50]\n"
     ]
    }
   ],
   "source": [
    "numbers = list(range(1, 51))  # You can change the range as needed\n",
    "divisible_by_3_or_5 = [num for num in numbers if num % 3 == 0 or num % 5 == 0]\n",
    "\n",
    "print(divisible_by_3_or_5)\n"
   ]
  }
 ],
 "metadata": {
  "kernelspec": {
   "display_name": "Python 3 (ipykernel)",
   "language": "python",
   "name": "python3"
  },
  "language_info": {
   "codemirror_mode": {
    "name": "ipython",
    "version": 3
   },
   "file_extension": ".py",
   "mimetype": "text/x-python",
   "name": "python",
   "nbconvert_exporter": "python",
   "pygments_lexer": "ipython3",
   "version": "3.12.7"
  }
 },
 "nbformat": 4,
 "nbformat_minor": 5
}
